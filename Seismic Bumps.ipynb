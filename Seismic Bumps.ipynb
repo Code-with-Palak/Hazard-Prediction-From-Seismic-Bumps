{
  "nbformat": 4,
  "nbformat_minor": 0,
  "metadata": {
    "colab": {
      "name": "Assignment",
      "provenance": [],
      "collapsed_sections": []
    },
    "kernelspec": {
      "display_name": "Python 3",
      "name": "python3"
    },
    "language_info": {
      "name": "python"
    }
  },
  "cells": [
    {
      "cell_type": "markdown",
      "metadata": {
        "id": "OkrI2ZW1-uuB"
      },
      "source": [
        "### Importing libraries"
      ]
    },
    {
      "cell_type": "code",
      "metadata": {
        "colab": {
          "base_uri": "https://localhost:8080/"
        },
        "id": "C0zfLjMZS31P",
        "outputId": "7e2d0052-1f99-44b1-aa26-9792030b3e42"
      },
      "source": [
        "#python libraries\n",
        "import pandas as pd\n",
        "import seaborn as sns\n",
        "import matplotlib.pyplot as plt\n",
        "from sklearn.preprocessing import StandardScaler, LabelEncoder\n",
        "from sklearn.decomposition import PCA\n",
        "from sklearn.linear_model import LogisticRegression\n",
        "from sklearn.model_selection import train_test_split\n",
        "!pip install catboost\n",
        "from sklearn.linear_model import LogisticRegression\n",
        "from sklearn.ensemble import RandomForestClassifier\n",
        "from catboost import CatBoostClassifier\n",
        "from sklearn.metrics import classification_report, plot_confusion_matrix, plot_precision_recall_curve, accuracy_score, roc_auc_score, log_loss\n",
        "import warnings\n",
        "warnings.filterwarnings(\"ignore\")"
      ],
      "execution_count": 41,
      "outputs": [
        {
          "output_type": "stream",
          "text": [
            "Requirement already satisfied: catboost in /usr/local/lib/python3.7/dist-packages (0.25.1)\n",
            "Requirement already satisfied: six in /usr/local/lib/python3.7/dist-packages (from catboost) (1.15.0)\n",
            "Requirement already satisfied: graphviz in /usr/local/lib/python3.7/dist-packages (from catboost) (0.10.1)\n",
            "Requirement already satisfied: numpy>=1.16.0 in /usr/local/lib/python3.7/dist-packages (from catboost) (1.19.5)\n",
            "Requirement already satisfied: plotly in /usr/local/lib/python3.7/dist-packages (from catboost) (4.4.1)\n",
            "Requirement already satisfied: pandas>=0.24.0 in /usr/local/lib/python3.7/dist-packages (from catboost) (1.1.5)\n",
            "Requirement already satisfied: scipy in /usr/local/lib/python3.7/dist-packages (from catboost) (1.4.1)\n",
            "Requirement already satisfied: matplotlib in /usr/local/lib/python3.7/dist-packages (from catboost) (3.2.2)\n",
            "Requirement already satisfied: retrying>=1.3.3 in /usr/local/lib/python3.7/dist-packages (from plotly->catboost) (1.3.3)\n",
            "Requirement already satisfied: python-dateutil>=2.7.3 in /usr/local/lib/python3.7/dist-packages (from pandas>=0.24.0->catboost) (2.8.1)\n",
            "Requirement already satisfied: pytz>=2017.2 in /usr/local/lib/python3.7/dist-packages (from pandas>=0.24.0->catboost) (2018.9)\n",
            "Requirement already satisfied: pyparsing!=2.0.4,!=2.1.2,!=2.1.6,>=2.0.1 in /usr/local/lib/python3.7/dist-packages (from matplotlib->catboost) (2.4.7)\n",
            "Requirement already satisfied: cycler>=0.10 in /usr/local/lib/python3.7/dist-packages (from matplotlib->catboost) (0.10.0)\n",
            "Requirement already satisfied: kiwisolver>=1.0.1 in /usr/local/lib/python3.7/dist-packages (from matplotlib->catboost) (1.3.1)\n"
          ],
          "name": "stdout"
        }
      ]
    },
    {
      "cell_type": "markdown",
      "metadata": {
        "id": "peVEgz67-1Vw"
      },
      "source": [
        "### Data loading"
      ]
    },
    {
      "cell_type": "code",
      "metadata": {
        "colab": {
          "base_uri": "https://localhost:8080/",
          "height": 194
        },
        "id": "gYgx70LuTt2g",
        "outputId": "0b7b7a1b-3644-4fd8-d545-fe4a62ee7565"
      },
      "source": [
        "data = pd.read_csv('/content/drive/MyDrive/Assignmnet/seismic_bumps.csv')\n",
        "data.head() "
      ],
      "execution_count": 42,
      "outputs": [
        {
          "output_type": "execute_result",
          "data": {
            "text/html": [
              "<div>\n",
              "<style scoped>\n",
              "    .dataframe tbody tr th:only-of-type {\n",
              "        vertical-align: middle;\n",
              "    }\n",
              "\n",
              "    .dataframe tbody tr th {\n",
              "        vertical-align: top;\n",
              "    }\n",
              "\n",
              "    .dataframe thead th {\n",
              "        text-align: right;\n",
              "    }\n",
              "</style>\n",
              "<table border=\"1\" class=\"dataframe\">\n",
              "  <thead>\n",
              "    <tr style=\"text-align: right;\">\n",
              "      <th></th>\n",
              "      <th>seismic</th>\n",
              "      <th>seismoacoustic</th>\n",
              "      <th>shift</th>\n",
              "      <th>genergy</th>\n",
              "      <th>gpuls</th>\n",
              "      <th>gdenergy</th>\n",
              "      <th>gdpuls</th>\n",
              "      <th>ghazard</th>\n",
              "      <th>nbumps</th>\n",
              "      <th>nbumps2</th>\n",
              "      <th>nbumps3</th>\n",
              "      <th>nbumps4</th>\n",
              "      <th>nbumps5</th>\n",
              "      <th>nbumps6</th>\n",
              "      <th>nbumps7</th>\n",
              "      <th>nbumps89</th>\n",
              "      <th>energy</th>\n",
              "      <th>maxenergy</th>\n",
              "      <th>class</th>\n",
              "    </tr>\n",
              "  </thead>\n",
              "  <tbody>\n",
              "    <tr>\n",
              "      <th>0</th>\n",
              "      <td>a</td>\n",
              "      <td>a</td>\n",
              "      <td>N</td>\n",
              "      <td>15180</td>\n",
              "      <td>48</td>\n",
              "      <td>-72</td>\n",
              "      <td>-72</td>\n",
              "      <td>a</td>\n",
              "      <td>0</td>\n",
              "      <td>0</td>\n",
              "      <td>0</td>\n",
              "      <td>0</td>\n",
              "      <td>0</td>\n",
              "      <td>0</td>\n",
              "      <td>0</td>\n",
              "      <td>0</td>\n",
              "      <td>0</td>\n",
              "      <td>0</td>\n",
              "      <td>0</td>\n",
              "    </tr>\n",
              "    <tr>\n",
              "      <th>1</th>\n",
              "      <td>a</td>\n",
              "      <td>a</td>\n",
              "      <td>N</td>\n",
              "      <td>14720</td>\n",
              "      <td>33</td>\n",
              "      <td>-70</td>\n",
              "      <td>-79</td>\n",
              "      <td>a</td>\n",
              "      <td>1</td>\n",
              "      <td>0</td>\n",
              "      <td>1</td>\n",
              "      <td>0</td>\n",
              "      <td>0</td>\n",
              "      <td>0</td>\n",
              "      <td>0</td>\n",
              "      <td>0</td>\n",
              "      <td>2000</td>\n",
              "      <td>2000</td>\n",
              "      <td>0</td>\n",
              "    </tr>\n",
              "    <tr>\n",
              "      <th>2</th>\n",
              "      <td>a</td>\n",
              "      <td>a</td>\n",
              "      <td>N</td>\n",
              "      <td>8050</td>\n",
              "      <td>30</td>\n",
              "      <td>-81</td>\n",
              "      <td>-78</td>\n",
              "      <td>a</td>\n",
              "      <td>0</td>\n",
              "      <td>0</td>\n",
              "      <td>0</td>\n",
              "      <td>0</td>\n",
              "      <td>0</td>\n",
              "      <td>0</td>\n",
              "      <td>0</td>\n",
              "      <td>0</td>\n",
              "      <td>0</td>\n",
              "      <td>0</td>\n",
              "      <td>0</td>\n",
              "    </tr>\n",
              "    <tr>\n",
              "      <th>3</th>\n",
              "      <td>a</td>\n",
              "      <td>a</td>\n",
              "      <td>N</td>\n",
              "      <td>28820</td>\n",
              "      <td>171</td>\n",
              "      <td>-23</td>\n",
              "      <td>40</td>\n",
              "      <td>a</td>\n",
              "      <td>1</td>\n",
              "      <td>0</td>\n",
              "      <td>1</td>\n",
              "      <td>0</td>\n",
              "      <td>0</td>\n",
              "      <td>0</td>\n",
              "      <td>0</td>\n",
              "      <td>0</td>\n",
              "      <td>3000</td>\n",
              "      <td>3000</td>\n",
              "      <td>0</td>\n",
              "    </tr>\n",
              "    <tr>\n",
              "      <th>4</th>\n",
              "      <td>a</td>\n",
              "      <td>a</td>\n",
              "      <td>N</td>\n",
              "      <td>12640</td>\n",
              "      <td>57</td>\n",
              "      <td>-63</td>\n",
              "      <td>-52</td>\n",
              "      <td>a</td>\n",
              "      <td>0</td>\n",
              "      <td>0</td>\n",
              "      <td>0</td>\n",
              "      <td>0</td>\n",
              "      <td>0</td>\n",
              "      <td>0</td>\n",
              "      <td>0</td>\n",
              "      <td>0</td>\n",
              "      <td>0</td>\n",
              "      <td>0</td>\n",
              "      <td>0</td>\n",
              "    </tr>\n",
              "  </tbody>\n",
              "</table>\n",
              "</div>"
            ],
            "text/plain": [
              "  seismic seismoacoustic shift  genergy  ...  nbumps89  energy  maxenergy class\n",
              "0       a              a     N    15180  ...         0       0          0     0\n",
              "1       a              a     N    14720  ...         0    2000       2000     0\n",
              "2       a              a     N     8050  ...         0       0          0     0\n",
              "3       a              a     N    28820  ...         0    3000       3000     0\n",
              "4       a              a     N    12640  ...         0       0          0     0\n",
              "\n",
              "[5 rows x 19 columns]"
            ]
          },
          "metadata": {
            "tags": []
          },
          "execution_count": 42
        }
      ]
    },
    {
      "cell_type": "markdown",
      "metadata": {
        "id": "Lr8pKdMST5tA"
      },
      "source": [
        "#### Attribute information:\n",
        "1. seismic: shift seismic hazard in the coal mine obtained by the seismic; hazard state as(a : lack, b : low, c : high, d : danger state);\n",
        "2. seismoacoustic: shift seismic hazard  in the coal mine obtained by the this method;\n",
        "3. shift: type of a shift (W : coal-getting, N : preparation shift);\n",
        "4. genergy: energy recorded within shift previously using most active GMax \n",
        "5. gpuls: number of pulses recorded  by GMax within previous shift;\n",
        "6. gdenergy: deviation of energy recorded by GMax from average\n",
        "during eight previous shifts\n",
        "7. gdpuls: deviation of number of pulses\n",
        "8. ghazard: shift seismic hazard assessment in the coal mine based on registration from GMax\n",
        "9. nbumps: number of seismic bumps\n",
        "10. nbumps2: number of seismic bumps (in energy range [10^2,10^3)) \n",
        "11. nbumps3: number of seismic bumps (in energy range [10^3,10^4)) \n",
        "12. nbumps4: number of seismic bumps (in energy range [10^4,10^5))\n",
        "13. nbumps5: number of seismic bumps (in energy range [10^5,10^6))\n",
        "14. nbumps6: number of seismic bumps (in energy range [10^6,10^7))\n",
        "15. nbumps7: number of seismic bumps (in energy range [10^7,10^8))\n",
        "16. nbumps89: number of seismic bumps (in energy range [10^8,10^10))\n",
        "17. energy: total energy of seismic bumps\n",
        "18. maxenergy: maximum energy of the seismic bumps\n",
        "19. class: 1; seismic bumps leads to hazardous state or 0; Non hazardous state"
      ]
    },
    {
      "cell_type": "code",
      "metadata": {
        "colab": {
          "base_uri": "https://localhost:8080/"
        },
        "id": "cJmRo38pTyuG",
        "outputId": "4268afbf-4dae-46ce-8fac-d56cf5c7fffe"
      },
      "source": [
        "#number of instances and atttributes\n",
        "data.shape"
      ],
      "execution_count": 43,
      "outputs": [
        {
          "output_type": "execute_result",
          "data": {
            "text/plain": [
              "(2584, 19)"
            ]
          },
          "metadata": {
            "tags": []
          },
          "execution_count": 43
        }
      ]
    },
    {
      "cell_type": "markdown",
      "metadata": {
        "id": "cRGvjpa5A7vs"
      },
      "source": [
        "### Dataset basic information"
      ]
    },
    {
      "cell_type": "code",
      "metadata": {
        "colab": {
          "base_uri": "https://localhost:8080/"
        },
        "id": "dnKngDw-UBuD",
        "outputId": "94536eef-1b64-42be-eb11-5fb223fac486"
      },
      "source": [
        "data.info()"
      ],
      "execution_count": 44,
      "outputs": [
        {
          "output_type": "stream",
          "text": [
            "<class 'pandas.core.frame.DataFrame'>\n",
            "RangeIndex: 2584 entries, 0 to 2583\n",
            "Data columns (total 19 columns):\n",
            " #   Column          Non-Null Count  Dtype \n",
            "---  ------          --------------  ----- \n",
            " 0   seismic         2584 non-null   object\n",
            " 1   seismoacoustic  2584 non-null   object\n",
            " 2   shift           2584 non-null   object\n",
            " 3   genergy         2584 non-null   int64 \n",
            " 4   gpuls           2584 non-null   int64 \n",
            " 5   gdenergy        2584 non-null   int64 \n",
            " 6   gdpuls          2584 non-null   int64 \n",
            " 7   ghazard         2584 non-null   object\n",
            " 8   nbumps          2584 non-null   int64 \n",
            " 9    nbumps2        2584 non-null   int64 \n",
            " 10  nbumps3         2584 non-null   int64 \n",
            " 11  nbumps4         2584 non-null   int64 \n",
            " 12  nbumps5         2584 non-null   int64 \n",
            " 13  nbumps6         2584 non-null   int64 \n",
            " 14  nbumps7         2584 non-null   int64 \n",
            " 15  nbumps89        2584 non-null   int64 \n",
            " 16  energy          2584 non-null   int64 \n",
            " 17  maxenergy       2584 non-null   int64 \n",
            " 18  class           2584 non-null   int64 \n",
            "dtypes: int64(15), object(4)\n",
            "memory usage: 383.7+ KB\n"
          ],
          "name": "stdout"
        }
      ]
    },
    {
      "cell_type": "markdown",
      "metadata": {
        "id": "7HFqjvV8BBZZ"
      },
      "source": [
        "Some attributes are of object type that means it contains string values so these are needed to be encoded"
      ]
    },
    {
      "cell_type": "code",
      "metadata": {
        "colab": {
          "base_uri": "https://localhost:8080/",
          "height": 282
        },
        "id": "E8yCC8LaUEjP",
        "outputId": "eb8c740b-8cdf-43bb-ccbf-6239cfeba068"
      },
      "source": [
        "data.describe()"
      ],
      "execution_count": 45,
      "outputs": [
        {
          "output_type": "execute_result",
          "data": {
            "text/html": [
              "<div>\n",
              "<style scoped>\n",
              "    .dataframe tbody tr th:only-of-type {\n",
              "        vertical-align: middle;\n",
              "    }\n",
              "\n",
              "    .dataframe tbody tr th {\n",
              "        vertical-align: top;\n",
              "    }\n",
              "\n",
              "    .dataframe thead th {\n",
              "        text-align: right;\n",
              "    }\n",
              "</style>\n",
              "<table border=\"1\" class=\"dataframe\">\n",
              "  <thead>\n",
              "    <tr style=\"text-align: right;\">\n",
              "      <th></th>\n",
              "      <th>genergy</th>\n",
              "      <th>gpuls</th>\n",
              "      <th>gdenergy</th>\n",
              "      <th>gdpuls</th>\n",
              "      <th>nbumps</th>\n",
              "      <th>nbumps2</th>\n",
              "      <th>nbumps3</th>\n",
              "      <th>nbumps4</th>\n",
              "      <th>nbumps5</th>\n",
              "      <th>nbumps6</th>\n",
              "      <th>nbumps7</th>\n",
              "      <th>nbumps89</th>\n",
              "      <th>energy</th>\n",
              "      <th>maxenergy</th>\n",
              "      <th>class</th>\n",
              "    </tr>\n",
              "  </thead>\n",
              "  <tbody>\n",
              "    <tr>\n",
              "      <th>count</th>\n",
              "      <td>2.584000e+03</td>\n",
              "      <td>2584.000000</td>\n",
              "      <td>2584.000000</td>\n",
              "      <td>2584.000000</td>\n",
              "      <td>2584.000000</td>\n",
              "      <td>2584.000000</td>\n",
              "      <td>2584.000000</td>\n",
              "      <td>2584.000000</td>\n",
              "      <td>2584.000000</td>\n",
              "      <td>2584.0</td>\n",
              "      <td>2584.0</td>\n",
              "      <td>2584.0</td>\n",
              "      <td>2584.000000</td>\n",
              "      <td>2584.000000</td>\n",
              "      <td>2584.000000</td>\n",
              "    </tr>\n",
              "    <tr>\n",
              "      <th>mean</th>\n",
              "      <td>9.024252e+04</td>\n",
              "      <td>538.579334</td>\n",
              "      <td>12.375774</td>\n",
              "      <td>4.508901</td>\n",
              "      <td>0.859520</td>\n",
              "      <td>0.393576</td>\n",
              "      <td>0.392802</td>\n",
              "      <td>0.067724</td>\n",
              "      <td>0.004644</td>\n",
              "      <td>0.0</td>\n",
              "      <td>0.0</td>\n",
              "      <td>0.0</td>\n",
              "      <td>4975.270898</td>\n",
              "      <td>4278.850619</td>\n",
              "      <td>0.065789</td>\n",
              "    </tr>\n",
              "    <tr>\n",
              "      <th>std</th>\n",
              "      <td>2.292005e+05</td>\n",
              "      <td>562.652536</td>\n",
              "      <td>80.319051</td>\n",
              "      <td>63.166556</td>\n",
              "      <td>1.364616</td>\n",
              "      <td>0.783772</td>\n",
              "      <td>0.769710</td>\n",
              "      <td>0.279059</td>\n",
              "      <td>0.068001</td>\n",
              "      <td>0.0</td>\n",
              "      <td>0.0</td>\n",
              "      <td>0.0</td>\n",
              "      <td>20450.833222</td>\n",
              "      <td>19357.454882</td>\n",
              "      <td>0.247962</td>\n",
              "    </tr>\n",
              "    <tr>\n",
              "      <th>min</th>\n",
              "      <td>1.000000e+02</td>\n",
              "      <td>2.000000</td>\n",
              "      <td>-96.000000</td>\n",
              "      <td>-96.000000</td>\n",
              "      <td>0.000000</td>\n",
              "      <td>0.000000</td>\n",
              "      <td>0.000000</td>\n",
              "      <td>0.000000</td>\n",
              "      <td>0.000000</td>\n",
              "      <td>0.0</td>\n",
              "      <td>0.0</td>\n",
              "      <td>0.0</td>\n",
              "      <td>0.000000</td>\n",
              "      <td>0.000000</td>\n",
              "      <td>0.000000</td>\n",
              "    </tr>\n",
              "    <tr>\n",
              "      <th>25%</th>\n",
              "      <td>1.166000e+04</td>\n",
              "      <td>190.000000</td>\n",
              "      <td>-37.000000</td>\n",
              "      <td>-36.000000</td>\n",
              "      <td>0.000000</td>\n",
              "      <td>0.000000</td>\n",
              "      <td>0.000000</td>\n",
              "      <td>0.000000</td>\n",
              "      <td>0.000000</td>\n",
              "      <td>0.0</td>\n",
              "      <td>0.0</td>\n",
              "      <td>0.0</td>\n",
              "      <td>0.000000</td>\n",
              "      <td>0.000000</td>\n",
              "      <td>0.000000</td>\n",
              "    </tr>\n",
              "    <tr>\n",
              "      <th>50%</th>\n",
              "      <td>2.548500e+04</td>\n",
              "      <td>379.000000</td>\n",
              "      <td>-6.000000</td>\n",
              "      <td>-6.000000</td>\n",
              "      <td>0.000000</td>\n",
              "      <td>0.000000</td>\n",
              "      <td>0.000000</td>\n",
              "      <td>0.000000</td>\n",
              "      <td>0.000000</td>\n",
              "      <td>0.0</td>\n",
              "      <td>0.0</td>\n",
              "      <td>0.0</td>\n",
              "      <td>0.000000</td>\n",
              "      <td>0.000000</td>\n",
              "      <td>0.000000</td>\n",
              "    </tr>\n",
              "    <tr>\n",
              "      <th>75%</th>\n",
              "      <td>5.283250e+04</td>\n",
              "      <td>669.000000</td>\n",
              "      <td>38.000000</td>\n",
              "      <td>30.250000</td>\n",
              "      <td>1.000000</td>\n",
              "      <td>1.000000</td>\n",
              "      <td>1.000000</td>\n",
              "      <td>0.000000</td>\n",
              "      <td>0.000000</td>\n",
              "      <td>0.0</td>\n",
              "      <td>0.0</td>\n",
              "      <td>0.0</td>\n",
              "      <td>2600.000000</td>\n",
              "      <td>2000.000000</td>\n",
              "      <td>0.000000</td>\n",
              "    </tr>\n",
              "    <tr>\n",
              "      <th>max</th>\n",
              "      <td>2.595650e+06</td>\n",
              "      <td>4518.000000</td>\n",
              "      <td>1245.000000</td>\n",
              "      <td>838.000000</td>\n",
              "      <td>9.000000</td>\n",
              "      <td>8.000000</td>\n",
              "      <td>7.000000</td>\n",
              "      <td>3.000000</td>\n",
              "      <td>1.000000</td>\n",
              "      <td>0.0</td>\n",
              "      <td>0.0</td>\n",
              "      <td>0.0</td>\n",
              "      <td>402000.000000</td>\n",
              "      <td>400000.000000</td>\n",
              "      <td>1.000000</td>\n",
              "    </tr>\n",
              "  </tbody>\n",
              "</table>\n",
              "</div>"
            ],
            "text/plain": [
              "            genergy        gpuls  ...      maxenergy        class\n",
              "count  2.584000e+03  2584.000000  ...    2584.000000  2584.000000\n",
              "mean   9.024252e+04   538.579334  ...    4278.850619     0.065789\n",
              "std    2.292005e+05   562.652536  ...   19357.454882     0.247962\n",
              "min    1.000000e+02     2.000000  ...       0.000000     0.000000\n",
              "25%    1.166000e+04   190.000000  ...       0.000000     0.000000\n",
              "50%    2.548500e+04   379.000000  ...       0.000000     0.000000\n",
              "75%    5.283250e+04   669.000000  ...    2000.000000     0.000000\n",
              "max    2.595650e+06  4518.000000  ...  400000.000000     1.000000\n",
              "\n",
              "[8 rows x 15 columns]"
            ]
          },
          "metadata": {
            "tags": []
          },
          "execution_count": 45
        }
      ]
    },
    {
      "cell_type": "markdown",
      "metadata": {
        "id": "xT4Nf6qCUKXZ"
      },
      "source": [
        "A brief description of data is given above with its mean, min-max values, and other statiscal measures."
      ]
    },
    {
      "cell_type": "code",
      "metadata": {
        "colab": {
          "base_uri": "https://localhost:8080/"
        },
        "id": "zM-TrpyaUDd_",
        "outputId": "4f743ce0-ace7-41df-9577-609b68bc50b1"
      },
      "source": [
        "#Observing null values, if any.\n",
        "data.isnull().sum()"
      ],
      "execution_count": 46,
      "outputs": [
        {
          "output_type": "execute_result",
          "data": {
            "text/plain": [
              "seismic           0\n",
              "seismoacoustic    0\n",
              "shift             0\n",
              "genergy           0\n",
              "gpuls             0\n",
              "gdenergy          0\n",
              "gdpuls            0\n",
              "ghazard           0\n",
              "nbumps            0\n",
              " nbumps2          0\n",
              "nbumps3           0\n",
              "nbumps4           0\n",
              "nbumps5           0\n",
              "nbumps6           0\n",
              "nbumps7           0\n",
              "nbumps89          0\n",
              "energy            0\n",
              "maxenergy         0\n",
              "class             0\n",
              "dtype: int64"
            ]
          },
          "metadata": {
            "tags": []
          },
          "execution_count": 46
        }
      ]
    },
    {
      "cell_type": "markdown",
      "metadata": {
        "id": "zgUTIlB8BXCB"
      },
      "source": [
        "This null value count represents that the dataset is free from noise; null value are not there. "
      ]
    },
    {
      "cell_type": "markdown",
      "metadata": {
        "id": "U0nngqdQVwf4"
      },
      "source": [
        "### EDA: Exploratory Data Analysis"
      ]
    },
    {
      "cell_type": "markdown",
      "metadata": {
        "id": "DQgwwqxvCYrC"
      },
      "source": [
        "##### Observing target feature"
      ]
    },
    {
      "cell_type": "code",
      "metadata": {
        "colab": {
          "base_uri": "https://localhost:8080/",
          "height": 351
        },
        "id": "EAG6q7C5UYKz",
        "outputId": "ce74b900-1e4b-4276-faff-da510e1f53a7"
      },
      "source": [
        "#examining target feature\n",
        "print(data['class'].value_counts())\n",
        "\n",
        "#count plot of each class in target feature\n",
        "sns.countplot(x=data['class'], palette=['teal', 'skyblue'])\n",
        "plt.xlabel('class')\n",
        "plt.ylabel('count')"
      ],
      "execution_count": 47,
      "outputs": [
        {
          "output_type": "stream",
          "text": [
            "0    2414\n",
            "1     170\n",
            "Name: class, dtype: int64\n"
          ],
          "name": "stdout"
        },
        {
          "output_type": "execute_result",
          "data": {
            "text/plain": [
              "Text(0, 0.5, 'count')"
            ]
          },
          "metadata": {
            "tags": []
          },
          "execution_count": 47
        },
        {
          "output_type": "display_data",
          "data": {
            "image/png": "[encoded data removed]",
            "text/plain": [
              "<Figure size 432x288 with 1 Axes>"
            ]
          },
          "metadata": {
            "tags": [],
            "needs_background": "light"
          }
        }
      ]
    },
    {
      "cell_type": "markdown",
      "metadata": {
        "id": "zG-yywuIBtjW"
      },
      "source": [
        "This represents that the target feature is having binary values; 0 and 1 representing Non-hazardous state and hazardous state, respectively.\n",
        "\n",
        "Observing that, we can say that instances of Non-hazardous state are more than instances of hazardous state."
      ]
    },
    {
      "cell_type": "markdown",
      "metadata": {
        "id": "nxni4JV6CdH5"
      },
      "source": [
        "##### Observing features via pearson correlation matrix"
      ]
    },
    {
      "cell_type": "code",
      "metadata": {
        "colab": {
          "base_uri": "https://localhost:8080/",
          "height": 929
        },
        "id": "sURgruVTXePG",
        "outputId": "eb09cff0-cd72-4dfa-d60c-0972777ddcb9"
      },
      "source": [
        "#Pearson's correlation matrix\n",
        "plt.figure(figsize=(16,16))\n",
        "sns.heatmap(data=data.corr(), vmax=1, vmin=-2, cmap='gist_earth_r', square=True, annot=True, linewidths=1)"
      ],
      "execution_count": 48,
      "outputs": [
        {
          "output_type": "execute_result",
          "data": {
            "text/plain": [
              "<matplotlib.axes._subplots.AxesSubplot at 0x7f45b3190d90>"
            ]
          },
          "metadata": {
            "tags": []
          },
          "execution_count": 48
        },
        {
          "output_type": "display_data",
          "data": {
            "image/png": "[encoded data removed]",
            "text/plain": [
              "<Figure size 1152x1152 with 2 Axes>"
            ]
          },
          "metadata": {
            "tags": [],
            "needs_background": "light"
          }
        }
      ]
    },
    {
      "cell_type": "markdown",
      "metadata": {
        "id": "4icm9wW-C-lo"
      },
      "source": [
        "In the above heatmap, it is observed that genergy and gpuls are strongly correlated along with gdenergy and gdpuls. Energy and maxenergy are seem to be perfectly correlated due to having high correlation coefficient values.\n",
        "\n",
        "On the other side, 'nbumps6', 'nbumps7', and 'nbumps89' are least correlated, therefore these can be removed.\n",
        "\n"
      ]
    },
    {
      "cell_type": "markdown",
      "metadata": {
        "id": "Yo18HukkD-lB"
      },
      "source": [
        "##### Countplots of some all attributes"
      ]
    },
    {
      "cell_type": "code",
      "metadata": {
        "colab": {
          "base_uri": "https://localhost:8080/",
          "height": 1000
        },
        "id": "Y-sRl_x0ZdSr",
        "outputId": "fca970c2-5532-4d2f-d7f2-fc189f707a13"
      },
      "source": [
        "#countplots of attributes\n",
        "columns = [col for col in data.columns if col!='class']\n",
        "plt.figure(figsize = (16,16))\n",
        "for i, col in enumerate(columns):\n",
        "    plt.subplot(6, 3, i+1)\n",
        "    sns.countplot(x = col, data = data, palette=['#432371',\"#FAAE7B\"], hue = 'class')\n",
        "    plt.tight_layout()"
      ],
      "execution_count": 49,
      "outputs": [
        {
          "output_type": "display_data",
          "data": {
            "image/png": "[encoded data removed]",
            "text/plain": [
              "<Figure size 1152x1152 with 18 Axes>"
            ]
          },
          "metadata": {
            "tags": [],
            "needs_background": "light"
          }
        }
      ]
    },
    {
      "cell_type": "markdown",
      "metadata": {
        "id": "Ntyzzi7vEMFU"
      },
      "source": [
        "Here, 'nbumps6', 'nbumps7', and 'nbumps89' are having all zeros therefore these can be treated as ordinal attributes. These are required to be removed from the data so as to avoid irrelevant data\n",
        "\n",
        "\n"
      ]
    },
    {
      "cell_type": "markdown",
      "metadata": {
        "id": "y95dmVEvE2La"
      },
      "source": [
        "##### Distplots to observe data skewness and distibution"
      ]
    },
    {
      "cell_type": "code",
      "metadata": {
        "colab": {
          "base_uri": "https://localhost:8080/",
          "height": 418
        },
        "id": "TjTWHqqbqWDr",
        "outputId": "f59bc39a-d39d-4168-a851-c81ed148960a"
      },
      "source": [
        "plt.figure(figsize = (16,16))\n",
        "for i, col in enumerate(['genergy', 'gpuls', 'gdenergy', 'gdpuls', 'energy', 'maxenergy']):\n",
        "    plt.subplot(6, 3, i+1)\n",
        "    sns.distplot(data[col], hist=True, color='teal')\n",
        "    plt.tight_layout()"
      ],
      "execution_count": 50,
      "outputs": [
        {
          "output_type": "display_data",
          "data": {
            "image/png": "[encoded data removed]",
            "text/plain": [
              "<Figure size 1152x1152 with 6 Axes>"
            ]
          },
          "metadata": {
            "tags": [],
            "needs_background": "light"
          }
        }
      ]
    },
    {
      "cell_type": "markdown",
      "metadata": {
        "id": "2QTehcvUE7kb"
      },
      "source": [
        "It can be seen clearly that dataset, on the basis of all continuous attributes, is properly righlty skewed.\n",
        "\n",
        "Also, the values of continuous attributes ranges from 0-40000 approximately."
      ]
    },
    {
      "cell_type": "markdown",
      "metadata": {
        "id": "uLLDiK0cFkO0"
      },
      "source": [
        "### Cleaning of Data"
      ]
    },
    {
      "cell_type": "markdown",
      "metadata": {
        "id": "Vr5ibRM0Fpeg"
      },
      "source": [
        "After exploring dataset using some plots and visuals, some tranformations and cleaning is required."
      ]
    },
    {
      "cell_type": "code",
      "metadata": {
        "id": "tGcg_2iNs0VX"
      },
      "source": [
        "#removing 'nbumps6', 'nbumps7', and 'nbumps89' features due to having only 1 category of class\n",
        "data =data.drop(columns=['nbumps6', 'nbumps7', 'nbumps89'], axis=1)"
      ],
      "execution_count": 51,
      "outputs": []
    },
    {
      "cell_type": "markdown",
      "metadata": {
        "id": "ZPKitWzVF77a"
      },
      "source": [
        "##### Label Encoding and Scaling"
      ]
    },
    {
      "cell_type": "code",
      "metadata": {
        "id": "jKJ54ZvvrrNW"
      },
      "source": [
        "# Label Encoding of features of object dtype\n",
        "for col in data.columns:\n",
        "  if data[col].dtype=='O':\n",
        "    data[col] = LabelEncoder().fit_transform(data[col])\n",
        "  \n",
        "#data info after encoding"
      ],
      "execution_count": 52,
      "outputs": []
    },
    {
      "cell_type": "code",
      "metadata": {
        "id": "GA2l57ONth_P",
        "colab": {
          "base_uri": "https://localhost:8080/",
          "height": 194
        },
        "outputId": "a92c57fd-89c8-4a10-8f1b-ca2e8d86c5e0"
      },
      "source": [
        "#Standard Scaling over continuous features to adjust values inside some fixed range\n",
        "for col in ['genergy', 'gpuls', 'gdenergy', 'gdpuls', 'energy', 'maxenergy']:\n",
        "  data[col] = StandardScaler().fit_transform(data[[col]])\n",
        "\n",
        "#scaled data looks like\n",
        "data.head()"
      ],
      "execution_count": 53,
      "outputs": [
        {
          "output_type": "execute_result",
          "data": {
            "text/html": [
              "<div>\n",
              "<style scoped>\n",
              "    .dataframe tbody tr th:only-of-type {\n",
              "        vertical-align: middle;\n",
              "    }\n",
              "\n",
              "    .dataframe tbody tr th {\n",
              "        vertical-align: top;\n",
              "    }\n",
              "\n",
              "    .dataframe thead th {\n",
              "        text-align: right;\n",
              "    }\n",
              "</style>\n",
              "<table border=\"1\" class=\"dataframe\">\n",
              "  <thead>\n",
              "    <tr style=\"text-align: right;\">\n",
              "      <th></th>\n",
              "      <th>seismic</th>\n",
              "      <th>seismoacoustic</th>\n",
              "      <th>shift</th>\n",
              "      <th>genergy</th>\n",
              "      <th>gpuls</th>\n",
              "      <th>gdenergy</th>\n",
              "      <th>gdpuls</th>\n",
              "      <th>ghazard</th>\n",
              "      <th>nbumps</th>\n",
              "      <th>nbumps2</th>\n",
              "      <th>nbumps3</th>\n",
              "      <th>nbumps4</th>\n",
              "      <th>nbumps5</th>\n",
              "      <th>energy</th>\n",
              "      <th>maxenergy</th>\n",
              "      <th>class</th>\n",
              "    </tr>\n",
              "  </thead>\n",
              "  <tbody>\n",
              "    <tr>\n",
              "      <th>0</th>\n",
              "      <td>0</td>\n",
              "      <td>0</td>\n",
              "      <td>0</td>\n",
              "      <td>-0.327561</td>\n",
              "      <td>-0.872073</td>\n",
              "      <td>-1.050711</td>\n",
              "      <td>-1.211459</td>\n",
              "      <td>0</td>\n",
              "      <td>0</td>\n",
              "      <td>0</td>\n",
              "      <td>0</td>\n",
              "      <td>0</td>\n",
              "      <td>0</td>\n",
              "      <td>-0.243327</td>\n",
              "      <td>-0.221087</td>\n",
              "      <td>0</td>\n",
              "    </tr>\n",
              "    <tr>\n",
              "      <th>1</th>\n",
              "      <td>0</td>\n",
              "      <td>0</td>\n",
              "      <td>0</td>\n",
              "      <td>-0.329568</td>\n",
              "      <td>-0.898738</td>\n",
              "      <td>-1.025805</td>\n",
              "      <td>-1.322299</td>\n",
              "      <td>0</td>\n",
              "      <td>1</td>\n",
              "      <td>0</td>\n",
              "      <td>1</td>\n",
              "      <td>0</td>\n",
              "      <td>0</td>\n",
              "      <td>-0.145512</td>\n",
              "      <td>-0.117747</td>\n",
              "      <td>0</td>\n",
              "    </tr>\n",
              "    <tr>\n",
              "      <th>2</th>\n",
              "      <td>0</td>\n",
              "      <td>0</td>\n",
              "      <td>0</td>\n",
              "      <td>-0.358675</td>\n",
              "      <td>-0.904071</td>\n",
              "      <td>-1.162786</td>\n",
              "      <td>-1.306465</td>\n",
              "      <td>0</td>\n",
              "      <td>0</td>\n",
              "      <td>0</td>\n",
              "      <td>0</td>\n",
              "      <td>0</td>\n",
              "      <td>0</td>\n",
              "      <td>-0.243327</td>\n",
              "      <td>-0.221087</td>\n",
              "      <td>0</td>\n",
              "    </tr>\n",
              "    <tr>\n",
              "      <th>3</th>\n",
              "      <td>0</td>\n",
              "      <td>0</td>\n",
              "      <td>0</td>\n",
              "      <td>-0.268038</td>\n",
              "      <td>-0.653424</td>\n",
              "      <td>-0.440526</td>\n",
              "      <td>0.561974</td>\n",
              "      <td>0</td>\n",
              "      <td>1</td>\n",
              "      <td>0</td>\n",
              "      <td>1</td>\n",
              "      <td>0</td>\n",
              "      <td>0</td>\n",
              "      <td>-0.096605</td>\n",
              "      <td>-0.066078</td>\n",
              "      <td>0</td>\n",
              "    </tr>\n",
              "    <tr>\n",
              "      <th>4</th>\n",
              "      <td>0</td>\n",
              "      <td>0</td>\n",
              "      <td>0</td>\n",
              "      <td>-0.338645</td>\n",
              "      <td>-0.856075</td>\n",
              "      <td>-0.938636</td>\n",
              "      <td>-0.894775</td>\n",
              "      <td>0</td>\n",
              "      <td>0</td>\n",
              "      <td>0</td>\n",
              "      <td>0</td>\n",
              "      <td>0</td>\n",
              "      <td>0</td>\n",
              "      <td>-0.243327</td>\n",
              "      <td>-0.221087</td>\n",
              "      <td>0</td>\n",
              "    </tr>\n",
              "  </tbody>\n",
              "</table>\n",
              "</div>"
            ],
            "text/plain": [
              "   seismic  seismoacoustic  shift  ...    energy  maxenergy  class\n",
              "0        0               0      0  ... -0.243327  -0.221087      0\n",
              "1        0               0      0  ... -0.145512  -0.117747      0\n",
              "2        0               0      0  ... -0.243327  -0.221087      0\n",
              "3        0               0      0  ... -0.096605  -0.066078      0\n",
              "4        0               0      0  ... -0.243327  -0.221087      0\n",
              "\n",
              "[5 rows x 16 columns]"
            ]
          },
          "metadata": {
            "tags": []
          },
          "execution_count": 53
        }
      ]
    },
    {
      "cell_type": "markdown",
      "metadata": {
        "id": "ZyVesDA3GNI7"
      },
      "source": [
        "### Splitting data into X and y and Principal Component Analysis\n",
        "X: Set of indepedent features\n",
        "y: Dependent features; class"
      ]
    },
    {
      "cell_type": "code",
      "metadata": {
        "id": "ULx1p4SWu-As"
      },
      "source": [
        "X = data.drop('class', axis=1)\n",
        "y = data['class']"
      ],
      "execution_count": 54,
      "outputs": []
    },
    {
      "cell_type": "code",
      "metadata": {
        "id": "shjAjhPMvkRv"
      },
      "source": [
        "#splitting data into train and test sets with ratio 80% and 20%, repsectively\n",
        "X_train, X_test, y_train, y_test = train_test_split(X, y, test_size=0.2, random_state=42, stratify=y)"
      ],
      "execution_count": 55,
      "outputs": []
    },
    {
      "cell_type": "code",
      "metadata": {
        "id": "JYWe5AOSubDn",
        "colab": {
          "base_uri": "https://localhost:8080/"
        },
        "outputId": "58f02a18-0c29-4c18-e5b1-86e796c97d7f"
      },
      "source": [
        "#PCA to reduce the dimensionality of data\n",
        "pca = PCA(n_components=10)\n",
        "X_train = pca.fit_transform(X_train)\n",
        "X_test = pca.transform(X_test)\n",
        "X_train = pd.DataFrame(X_train, columns=['PC'+str(i+1) for i in range(10)])\n",
        "\n",
        "#data with 10 Principle components that holds most of the information\n",
        "X_train.shape, y_train.shape"
      ],
      "execution_count": 56,
      "outputs": [
        {
          "output_type": "execute_result",
          "data": {
            "text/plain": [
              "((2067, 10), (2067,))"
            ]
          },
          "metadata": {
            "tags": []
          },
          "execution_count": 56
        }
      ]
    },
    {
      "cell_type": "markdown",
      "metadata": {
        "id": "ZDv7a-WOHvN-"
      },
      "source": [
        "### Models\n",
        "\n",
        "#### Algorithm 1: Random Forest Classifier"
      ]
    },
    {
      "cell_type": "code",
      "metadata": {
        "id": "jDHHy6XdwxtV",
        "colab": {
          "base_uri": "https://localhost:8080/"
        },
        "outputId": "cd326f3b-716d-4476-b6cf-5922638aef4a"
      },
      "source": [
        "#model with Random Forest Classifier\n",
        "model1 = RandomForestClassifier()\n",
        "\n",
        "#training \n",
        "model1.fit(X_train, y_train)"
      ],
      "execution_count": 57,
      "outputs": [
        {
          "output_type": "execute_result",
          "data": {
            "text/plain": [
              "RandomForestClassifier(bootstrap=True, ccp_alpha=0.0, class_weight=None,\n",
              "                       criterion='gini', max_depth=None, max_features='auto',\n",
              "                       max_leaf_nodes=None, max_samples=None,\n",
              "                       min_impurity_decrease=0.0, min_impurity_split=None,\n",
              "                       min_samples_leaf=1, min_samples_split=2,\n",
              "                       min_weight_fraction_leaf=0.0, n_estimators=100,\n",
              "                       n_jobs=None, oob_score=False, random_state=None,\n",
              "                       verbose=0, warm_start=False)"
            ]
          },
          "metadata": {
            "tags": []
          },
          "execution_count": 57
        }
      ]
    },
    {
      "cell_type": "code",
      "metadata": {
        "id": "m3KVlbx9I1RE"
      },
      "source": [
        "#prediction\n",
        "model1_pred =  model1.predict(X_test)"
      ],
      "execution_count": 58,
      "outputs": []
    },
    {
      "cell_type": "markdown",
      "metadata": {
        "id": "g0RFBrwHILrB"
      },
      "source": [
        "#### Random Forest's Performance"
      ]
    },
    {
      "cell_type": "code",
      "metadata": {
        "id": "xWsQQrIaIQLs",
        "colab": {
          "base_uri": "https://localhost:8080/"
        },
        "outputId": "1c5569d8-ba91-4e8c-f2c0-8be1c1349e10"
      },
      "source": [
        "print('CLASSIFICATION REPORT')\n",
        "print(classification_report(y_test, model1_pred))\n",
        "print('ACCURACY SCORE: ', accuracy_score(y_test, model1_pred))\n",
        "print('LOG LOSS: ', log_loss(y_test, model1.predict_proba(X_test)))"
      ],
      "execution_count": 59,
      "outputs": [
        {
          "output_type": "stream",
          "text": [
            "CLASSIFICATION REPORT\n",
            "              precision    recall  f1-score   support\n",
            "\n",
            "           0       0.93      1.00      0.96       483\n",
            "           1       0.00      0.00      0.00        34\n",
            "\n",
            "    accuracy                           0.93       517\n",
            "   macro avg       0.47      0.50      0.48       517\n",
            "weighted avg       0.87      0.93      0.90       517\n",
            "\n",
            "ACCURACY SCORE:  0.9323017408123792\n",
            "LOG LOSS:  0.45210422821559276\n"
          ],
          "name": "stdout"
        }
      ]
    },
    {
      "cell_type": "code",
      "metadata": {
        "id": "tU2j5OU2Jhgr",
        "colab": {
          "base_uri": "https://localhost:8080/",
          "height": 297
        },
        "outputId": "9fd3491d-b9fc-4322-fd34-93a9fefa5d9b"
      },
      "source": [
        "#precision recall curve\n",
        "plot_precision_recall_curve(estimator=model1, X=X_test, y=y_test)"
      ],
      "execution_count": 60,
      "outputs": [
        {
          "output_type": "execute_result",
          "data": {
            "text/plain": [
              "<sklearn.metrics._plot.precision_recall_curve.PrecisionRecallDisplay at 0x7f45bc5228d0>"
            ]
          },
          "metadata": {
            "tags": []
          },
          "execution_count": 60
        },
        {
          "output_type": "display_data",
          "data": {
            "image/png": "[encoded data removed]",
            "text/plain": [
              "<Figure size 432x288 with 1 Axes>"
            ]
          },
          "metadata": {
            "tags": [],
            "needs_background": "light"
          }
        }
      ]
    },
    {
      "cell_type": "markdown",
      "metadata": {
        "id": "m1VfREHoKKJG"
      },
      "source": [
        "the precision-recall curve is describing the high area under curve showing high precision and recall values which states low false positive and low false negative rates."
      ]
    },
    {
      "cell_type": "code",
      "metadata": {
        "id": "uaKlq4haKkF0",
        "colab": {
          "base_uri": "https://localhost:8080/",
          "height": 297
        },
        "outputId": "82fed280-67c5-4958-9ab9-145882a799f5"
      },
      "source": [
        "#confusion matrix\n",
        "plot_confusion_matrix(estimator=model1, X=X_test, y_true=y_test, cmap='Blues_r')"
      ],
      "execution_count": 61,
      "outputs": [
        {
          "output_type": "execute_result",
          "data": {
            "text/plain": [
              "<sklearn.metrics._plot.confusion_matrix.ConfusionMatrixDisplay at 0x7f45bc4ef510>"
            ]
          },
          "metadata": {
            "tags": []
          },
          "execution_count": 61
        },
        {
          "output_type": "display_data",
          "data": {
            "image/png": "[encoded data removed]",
            "text/plain": [
              "<Figure size 432x288 with 2 Axes>"
            ]
          },
          "metadata": {
            "tags": [],
            "needs_background": "light"
          }
        }
      ]
    },
    {
      "cell_type": "markdown",
      "metadata": {
        "id": "7AsIHhRVOKV4"
      },
      "source": [
        "The confusion matrix of this classifier is showing great results with less false predicted values."
      ]
    },
    {
      "cell_type": "markdown",
      "metadata": {
        "id": "qkt6NUklLvL-"
      },
      "source": [
        "#### Algorithm 2: Logistic Regression"
      ]
    },
    {
      "cell_type": "code",
      "metadata": {
        "id": "e8kv-XG0xEs1",
        "colab": {
          "base_uri": "https://localhost:8080/"
        },
        "outputId": "93bdd81d-f2ac-479d-aa71-99e26730f054"
      },
      "source": [
        "#model with Logistic Regression Classifier\n",
        "model2 = LogisticRegression()\n",
        "\n",
        "#training \n",
        "model2.fit(X_train, y_train)"
      ],
      "execution_count": 62,
      "outputs": [
        {
          "output_type": "execute_result",
          "data": {
            "text/plain": [
              "LogisticRegression(C=1.0, class_weight=None, dual=False, fit_intercept=True,\n",
              "                   intercept_scaling=1, l1_ratio=None, max_iter=100,\n",
              "                   multi_class='auto', n_jobs=None, penalty='l2',\n",
              "                   random_state=None, solver='lbfgs', tol=0.0001, verbose=0,\n",
              "                   warm_start=False)"
            ]
          },
          "metadata": {
            "tags": []
          },
          "execution_count": 62
        }
      ]
    },
    {
      "cell_type": "code",
      "metadata": {
        "id": "mo5OP6n7L68L"
      },
      "source": [
        "#prediction\n",
        "model2_pred =  model2.predict(X_test)"
      ],
      "execution_count": 63,
      "outputs": []
    },
    {
      "cell_type": "markdown",
      "metadata": {
        "id": "uW6k1UgcMA6A"
      },
      "source": [
        "#### Logistic Regression's Performance"
      ]
    },
    {
      "cell_type": "code",
      "metadata": {
        "id": "mUlU3Fi4MIhJ",
        "colab": {
          "base_uri": "https://localhost:8080/"
        },
        "outputId": "cfa8e3e1-44bf-48c3-b7ce-b8559df7660d"
      },
      "source": [
        "print('CLASSIFICATION REPORT')\n",
        "print(classification_report(y_test, model2_pred))\n",
        "print('ACCURACY SCORE: ', accuracy_score(y_test, model2_pred))\n",
        "print('LOG LOSS: ', log_loss(y_test, model2.predict_proba(X_test)))"
      ],
      "execution_count": 64,
      "outputs": [
        {
          "output_type": "stream",
          "text": [
            "CLASSIFICATION REPORT\n",
            "              precision    recall  f1-score   support\n",
            "\n",
            "           0       0.94      0.99      0.96       483\n",
            "           1       0.25      0.03      0.05        34\n",
            "\n",
            "    accuracy                           0.93       517\n",
            "   macro avg       0.59      0.51      0.51       517\n",
            "weighted avg       0.89      0.93      0.90       517\n",
            "\n",
            "ACCURACY SCORE:  0.9303675048355899\n",
            "LOG LOSS:  0.21040953044329763\n"
          ],
          "name": "stdout"
        }
      ]
    },
    {
      "cell_type": "code",
      "metadata": {
        "id": "p3HRiFD3MVM5",
        "colab": {
          "base_uri": "https://localhost:8080/",
          "height": 297
        },
        "outputId": "bf10160c-445e-425e-e192-08baf83a76d8"
      },
      "source": [
        "#precision recall curve\n",
        "plot_precision_recall_curve(estimator=model2, X=X_test, y=y_test)"
      ],
      "execution_count": 65,
      "outputs": [
        {
          "output_type": "execute_result",
          "data": {
            "text/plain": [
              "<sklearn.metrics._plot.precision_recall_curve.PrecisionRecallDisplay at 0x7f45baa8f8d0>"
            ]
          },
          "metadata": {
            "tags": []
          },
          "execution_count": 65
        },
        {
          "output_type": "display_data",
          "data": {
            "image/png": "[encoded data removed]",
            "text/plain": [
              "<Figure size 432x288 with 1 Axes>"
            ]
          },
          "metadata": {
            "tags": [],
            "needs_background": "light"
          }
        }
      ]
    },
    {
      "cell_type": "markdown",
      "metadata": {
        "id": "9YWe-X37OdN6"
      },
      "source": [
        "the precision-recall curve of this model is describing the comparatively low area under curve showing comparatively lower  precision and recall values which states some false positive and false negative rates."
      ]
    },
    {
      "cell_type": "code",
      "metadata": {
        "id": "7gSHkO1SMmRx",
        "colab": {
          "base_uri": "https://localhost:8080/",
          "height": 297
        },
        "outputId": "ae1b6807-8a20-4f93-e152-fcf8b8b98797"
      },
      "source": [
        "#confusion matrix\n",
        "plot_confusion_matrix(estimator=model2, X=X_test, y_true=y_test, cmap='Blues_r')"
      ],
      "execution_count": 66,
      "outputs": [
        {
          "output_type": "execute_result",
          "data": {
            "text/plain": [
              "<sklearn.metrics._plot.confusion_matrix.ConfusionMatrixDisplay at 0x7f45bb23e6d0>"
            ]
          },
          "metadata": {
            "tags": []
          },
          "execution_count": 66
        },
        {
          "output_type": "display_data",
          "data": {
            "image/png": "[encoded data removed]",
            "text/plain": [
              "<Figure size 432x288 with 2 Axes>"
            ]
          },
          "metadata": {
            "tags": [],
            "needs_background": "light"
          }
        }
      ]
    },
    {
      "cell_type": "markdown",
      "metadata": {
        "id": "y0yJLn17-o7t"
      },
      "source": [
        "The confusion matrix of this classifier is showing comparatively greater false predicted values."
      ]
    },
    {
      "cell_type": "markdown",
      "metadata": {
        "id": "_z-0zTaKMx1o"
      },
      "source": [
        "#### Algorithm 3: Catboost Classifier"
      ]
    },
    {
      "cell_type": "code",
      "metadata": {
        "id": "KJkWuKHlxPux"
      },
      "source": [
        "#model with Catboost Classifier\n",
        "model3 = CatBoostClassifier()\n",
        "\n",
        "#training \n",
        "model3.fit(X_train, y_train)"
      ],
      "execution_count": null,
      "outputs": []
    },
    {
      "cell_type": "code",
      "metadata": {
        "id": "1qiotgMmMxlQ"
      },
      "source": [
        "#prediction\n",
        "model3_pred =  model3.predict(X_test)"
      ],
      "execution_count": 68,
      "outputs": []
    },
    {
      "cell_type": "markdown",
      "metadata": {
        "id": "tyILoFS_Nc0k"
      },
      "source": [
        "#### Catboost Classifier's Performance"
      ]
    },
    {
      "cell_type": "code",
      "metadata": {
        "id": "PpvRHod48Cv9",
        "colab": {
          "base_uri": "https://localhost:8080/"
        },
        "outputId": "d316fe48-6897-4b04-c467-a2a73d4cfd49"
      },
      "source": [
        "print('CLASSIFICATION REPORT')\n",
        "print(classification_report(y_test, model3_pred))\n",
        "print('ACCURACY SCORE: ', accuracy_score(y_test, model3_pred))\n",
        "print('LOG LOSS: ', log_loss(y_test, model3.predict_proba(X_test)))"
      ],
      "execution_count": 69,
      "outputs": [
        {
          "output_type": "stream",
          "text": [
            "CLASSIFICATION REPORT\n",
            "              precision    recall  f1-score   support\n",
            "\n",
            "           0       0.94      1.00      0.97       483\n",
            "           1       1.00      0.03      0.06        34\n",
            "\n",
            "    accuracy                           0.94       517\n",
            "   macro avg       0.97      0.51      0.51       517\n",
            "weighted avg       0.94      0.94      0.91       517\n",
            "\n",
            "ACCURACY SCORE:  0.9361702127659575\n",
            "LOG LOSS:  0.21372313650287572\n"
          ],
          "name": "stdout"
        }
      ]
    },
    {
      "cell_type": "code",
      "metadata": {
        "id": "8SPl85yKNOYb",
        "colab": {
          "base_uri": "https://localhost:8080/",
          "height": 297
        },
        "outputId": "c559c470-7d6d-4ab2-a2a4-d3387fd1e83d"
      },
      "source": [
        "#precision recall curve\n",
        "plot_precision_recall_curve(estimator=model3, X=X_test, y=y_test)"
      ],
      "execution_count": 70,
      "outputs": [
        {
          "output_type": "execute_result",
          "data": {
            "text/plain": [
              "<sklearn.metrics._plot.precision_recall_curve.PrecisionRecallDisplay at 0x7f45babeadd0>"
            ]
          },
          "metadata": {
            "tags": []
          },
          "execution_count": 70
        },
        {
          "output_type": "display_data",
          "data": {
            "image/png": "[encoded data removed]",
            "text/plain": [
              "<Figure size 432x288 with 1 Axes>"
            ]
          },
          "metadata": {
            "tags": [],
            "needs_background": "light"
          }
        }
      ]
    },
    {
      "cell_type": "markdown",
      "metadata": {
        "id": "BRBHh862RzBb"
      },
      "source": [
        "This precision recall curve is quite similar to the curve obtained from Random Forest classifier but is better than that as it's having a bit higher area under the curve stating the least false positive and false negative rates."
      ]
    },
    {
      "cell_type": "code",
      "metadata": {
        "id": "KRJnP_S6NrZQ",
        "colab": {
          "base_uri": "https://localhost:8080/",
          "height": 297
        },
        "outputId": "e9623e08-863a-46c6-8148-270a96eeb574"
      },
      "source": [
        "#confusion matrix\n",
        "plot_confusion_matrix(estimator=model3, X=X_test, y_true=y_test, cmap='Blues_r')"
      ],
      "execution_count": 71,
      "outputs": [
        {
          "output_type": "execute_result",
          "data": {
            "text/plain": [
              "<sklearn.metrics._plot.confusion_matrix.ConfusionMatrixDisplay at 0x7f45bb268990>"
            ]
          },
          "metadata": {
            "tags": []
          },
          "execution_count": 71
        },
        {
          "output_type": "display_data",
          "data": {
            "image/png": "[encoded data removed]",
            "text/plain": [
              "<Figure size 432x288 with 2 Axes>"
            ]
          },
          "metadata": {
            "tags": [],
            "needs_background": "light"
          }
        }
      ]
    },
    {
      "cell_type": "markdown",
      "metadata": {
        "id": "V2zULKcSN7CC"
      },
      "source": [
        "\n",
        "\n",
        "The confusion matrix of this classifier is showing very less false predicted values among all models used here.\n"
      ]
    },
    {
      "cell_type": "markdown",
      "metadata": {
        "id": "oOal-ZzASqsW"
      },
      "source": [
        "### At last, it can be concluded:\n",
        "Out of three models used for this classification of hazardous and No-hazardous state, Catboost classifier algorithms and its model has been proven to be the best fitted model for this dataset. It attained 94% accuracy along with 0.21 log_loss which is better among all. Similar results are shown by Random Forest classifier also but its log-loss is comparatively higher among all. Therefore, Catboost Classifier is best for this seismic bumps dataset. The precision recall curve of catboost classifier is having highest area with least false positive and false negative rates, and the confusion matrix is also having better results with only 34 wrongly classified outputs."
      ]
    },
    {
      "cell_type": "code",
      "metadata": {
        "id": "R_wVAk02NsHE"
      },
      "source": [
        ""
      ],
      "execution_count": null,
      "outputs": []
    }
  ]
}